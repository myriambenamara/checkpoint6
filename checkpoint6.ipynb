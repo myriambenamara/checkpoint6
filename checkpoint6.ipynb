{
 "cells": [
  {
   "cell_type": "code",
   "execution_count": 7,
   "id": "88859427",
   "metadata": {},
   "outputs": [
    {
     "data": {
      "text/plain": [
       "array([1, 2, 3])"
      ]
     },
     "execution_count": 7,
     "metadata": {},
     "output_type": "execute_result"
    }
   ],
   "source": [
    "import numpy as np \n",
    "a =np.array([1,2,3])\n",
    "a \n",
    "#question1"
   ]
  },
  {
   "cell_type": "code",
   "execution_count": 9,
   "id": "38950f46",
   "metadata": {},
   "outputs": [
    {
     "name": "stdout",
     "output_type": "stream",
     "text": [
      "Original array : \n",
      "[[ 0 10 20]\n",
      " [30 40 50]]\n",
      " values bigger than 10 = [20 30 40 50]\n"
     ]
    }
   ],
   "source": [
    "import numpy as np \n",
    "a= np.array ([[0, 10, 20], [ 30, 40, 50]])\n",
    "print ( \"Original array : \")\n",
    "print (a)\n",
    "y=10\n",
    "print (\" values bigger than 10 =\", a [a>y])\n",
    "#question2"
   ]
  },
  {
   "cell_type": "code",
   "execution_count": 11,
   "id": "aac56471",
   "metadata": {},
   "outputs": [
    {
     "name": "stdout",
     "output_type": "stream",
     "text": [
      "[[ 7.4]\n",
      " [15.8]]\n"
     ]
    }
   ],
   "source": [
    "import numpy as np\n",
    "a= np.array ([[3.7], [7.9]], dtype = np.float64)\n",
    "b= np.array ([[3.7], [7.9]], dtype = np.float64)\n",
    "z= a+b \n",
    "print (z)\n",
    "#question4"
   ]
  },
  {
   "cell_type": "code",
   "execution_count": 12,
   "id": "2467b04a",
   "metadata": {},
   "outputs": [
    {
     "name": "stdout",
     "output_type": "stream",
     "text": [
      "[[ 0.37284688  0.32280765 -0.37148023 -0.13280611  0.13269218 -0.37738704\n",
      "  -0.18642388  0.48626215  0.07369565 -0.32020724]\n",
      " [-0.37639916  0.08636564 -0.5410828   0.27168662  0.08849913  0.28099531\n",
      "   0.21855861  0.00313566 -0.28203933  0.25028031]\n",
      " [ 0.43582523  0.27787801  0.1808463  -0.22998211 -0.30784966 -0.20227553\n",
      "   0.12627292 -0.10430157  0.16287926 -0.33929284]\n",
      " [-0.09859989 -0.0671167   0.4690552   0.30574109 -0.33885784  0.17599817\n",
      "   0.00272745 -0.29536055 -0.41399803  0.26041111]\n",
      " [-0.11510616  0.02411291  0.19069741  0.44003269  0.31593723 -0.40605775\n",
      "  -0.03564589  0.2347995  -0.26207283 -0.38669711]]\n"
     ]
    }
   ],
   "source": [
    "import numpy as np\n",
    "x = np.random.rand (5,10)\n",
    "y = x-x.mean (axis=1, keepdims= True )\n",
    "print (y)\n",
    "#question5"
   ]
  },
  {
   "cell_type": "code",
   "execution_count": 28,
   "id": "c71ed231",
   "metadata": {},
   "outputs": [
    {
     "name": "stdout",
     "output_type": "stream",
     "text": [
      "<class 'numpy.ndarray'>\n",
      "[[9 8 2]\n",
      " [4 6 3]]\n",
      "3\n",
      "[9 8 2]\n",
      "9\n",
      "8\n",
      "[4 6 3]\n",
      "4\n",
      "6\n"
     ]
    }
   ],
   "source": [
    "#question3 \n",
    "array1 = np.array ([[ 9, 8, 2], [4, 6, 3 ]])\n",
    "print (type(array1))\n",
    "print ( array1 )\n",
    "x1 = int (input ())\n",
    "for x in array1 : \n",
    "    for y in x : \n",
    "          if x1<y :\n",
    "                print (y,end= \"\\n\")\n",
    "            "
   ]
  },
  {
   "cell_type": "code",
   "execution_count": 13,
   "id": "3bc78e37",
   "metadata": {},
   "outputs": [
    {
     "name": "stdout",
     "output_type": "stream",
     "text": [
      "2\n"
     ]
    }
   ],
   "source": [
    "a = np.array([[0,1,2],[3,4,5],[6,7,8]])\n",
    "print(a[0,2])"
   ]
  },
  {
   "cell_type": "code",
   "execution_count": 21,
   "id": "a7476448",
   "metadata": {},
   "outputs": [
    {
     "name": "stdout",
     "output_type": "stream",
     "text": [
      "1\n",
      "3\n",
      "9\n"
     ]
    }
   ],
   "source": [
    "n = [1, 3, 9 ]\n",
    "for i in n: \n",
    "    print (i)"
   ]
  },
  {
   "cell_type": "code",
   "execution_count": null,
   "id": "314cead7",
   "metadata": {},
   "outputs": [],
   "source": []
  }
 ],
 "metadata": {
  "kernelspec": {
   "display_name": "Python 3",
   "language": "python",
   "name": "python3"
  },
  "language_info": {
   "codemirror_mode": {
    "name": "ipython",
    "version": 3
   },
   "file_extension": ".py",
   "mimetype": "text/x-python",
   "name": "python",
   "nbconvert_exporter": "python",
   "pygments_lexer": "ipython3",
   "version": "3.8.8"
  }
 },
 "nbformat": 4,
 "nbformat_minor": 5
}
